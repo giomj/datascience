{
 "cells": [
  {
   "cell_type": "code",
   "execution_count": 10,
   "metadata": {
    "collapsed": false,
    "deletable": true,
    "editable": true
   },
   "outputs": [
    {
     "name": "stdout",
     "output_type": "stream",
     "text": [
      "Validation Successful\n",
      "Validation Successful\n"
     ]
    }
   ],
   "source": [
    "from urllib.request import urlopen\n",
    "from jsonschema import validate\n",
    "import json\n",
    "\n",
    "\n",
    "#Get the crack schema\n",
    "try:\n",
    "    url = \"https://bridgingbigdata.github.io/bridgehealthschema/schema/crack.schema.json\"\n",
    "    response = urlopen(url)\n",
    "    schema = json.loads(response.read().decode(\"utf-8\"))\n",
    "except:\n",
    "    print(\"Issues loading JSON Schema\")\n",
    "    raise\n",
    "\n",
    "#Validate crack object\n",
    "try:\n",
    "    url = \"https://bridgingbigdata.github.io/bridgehealthschema/schema/crack.json\"\n",
    "    response = urlopen(url)\n",
    "    data = json.loads(response.read().decode(\"utf-8\"))\n",
    "except:\n",
    "    print(\"Issues loading JSON\")\n",
    "    raise\n",
    "\n",
    "try:\n",
    "    validate(data,schema)\n",
    "    print (\"Validation Successful\")\n",
    "except:\n",
    "    print (\"Invalid JSON\")\n",
    "\n",
    "\n",
    "# Validate files in locally mapped volume\n",
    "with open('/code/schema/crack.json') as data_file:\n",
    "    data = json.load(data_file)\n",
    "\n",
    "with open('/code/schema/crack.schema.json') as schema_file:\n",
    "    schema = json.load(schema_file)\n",
    "\n",
    "try:\n",
    "    validate(data,schema)\n",
    "    print (\"Validation Successful\")\n",
    "except:\n",
    "    print (\"Invalid JSON\")\n"
   ]
  },
  {
   "cell_type": "code",
   "execution_count": null,
   "metadata": {
    "collapsed": true,
    "deletable": true,
    "editable": true
   },
   "outputs": [],
   "source": []
  }
 ],
 "metadata": {
  "kernelspec": {
   "display_name": "Python 3",
   "language": "python",
   "name": "python3"
  },
  "language_info": {
   "codemirror_mode": {
    "name": "ipython",
    "version": 3
   },
   "file_extension": ".py",
   "mimetype": "text/x-python",
   "name": "python",
   "nbconvert_exporter": "python",
   "pygments_lexer": "ipython3",
   "version": "3.5.2"
  }
 },
 "nbformat": 4,
 "nbformat_minor": 2
}
