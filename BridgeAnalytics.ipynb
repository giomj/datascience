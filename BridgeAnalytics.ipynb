{
 "cells": [
  {
   "cell_type": "markdown",
   "metadata": {
    "collapsed": true,
    "deletable": true,
    "editable": true
   },
   "source": [
    "# Jupyter and MongoDB Test with Docker Compose "
   ]
  },
  {
   "cell_type": "code",
   "execution_count": 39,
   "metadata": {
    "collapsed": false,
    "deletable": true,
    "editable": true
   },
   "outputs": [
    {
     "name": "stdout",
     "output_type": "stream",
     "text": [
      "Database(MongoClient(host=['datascience_db_1:27017'], document_class=dict, tz_aware=False, connect=True), 'testDB')\n"
     ]
    }
   ],
   "source": [
    "#Import modules\n",
    "import json\n",
    "import random\n",
    "import pprint\n",
    "\n",
    "#Function to connect to MongoDB Containter\n",
    "def get_db():\n",
    "    from pymongo import MongoClient\n",
    "    client = MongoClient('datascience_db_1:27017')\n",
    "    db = client.testDB\n",
    "    return db\n",
    "\n",
    "#Function to add cracks to MongoDB\n",
    "def add_crack(db):\n",
    "    for i in range (1, 10000):\n",
    "        crack = {}\n",
    "        crack['crack'] = \"crack\" + str(i)\n",
    "        crack['width'] = round(random.random(),2)\n",
    "        db.cracks.insert_one(crack)\n",
    "\n",
    "#Function to return cracks in MongoDB\n",
    "def get_cracks(db):\n",
    "    return db.cracks.find()\n",
    "\n",
    "#Initialize DB\n",
    "db = get_db()\n",
    "print(db)"
   ]
  },
  {
   "cell_type": "code",
   "execution_count": 40,
   "metadata": {
    "collapsed": false,
    "deletable": true,
    "editable": true
   },
   "outputs": [],
   "source": [
    "add_crack(db)"
   ]
  },
  {
   "cell_type": "markdown",
   "metadata": {
    "deletable": true,
    "editable": true
   },
   "source": [
    "Iterate through all the cracks in the DB"
   ]
  },
  {
   "cell_type": "code",
   "execution_count": null,
   "metadata": {
    "collapsed": false,
    "deletable": true,
    "editable": true
   },
   "outputs": [],
   "source": [
    "# Print all cracks \n",
    "for i in get_cracks(db):\n",
    "    print(i)"
   ]
  },
  {
   "cell_type": "markdown",
   "metadata": {
    "deletable": true,
    "editable": true
   },
   "source": [
    "Count number of cracks in the database"
   ]
  },
  {
   "cell_type": "code",
   "execution_count": 41,
   "metadata": {
    "collapsed": false,
    "deletable": true,
    "editable": true,
    "scrolled": true
   },
   "outputs": [
    {
     "data": {
      "text/plain": [
       "9999"
      ]
     },
     "execution_count": 41,
     "metadata": {},
     "output_type": "execute_result"
    }
   ],
   "source": [
    "db.cracks.count()"
   ]
  },
  {
   "cell_type": "markdown",
   "metadata": {},
   "source": [
    "# Invoke the MongoDB Aggregation Framework"
   ]
  },
  {
   "cell_type": "code",
   "execution_count": 42,
   "metadata": {
    "collapsed": false,
    "deletable": true,
    "editable": true
   },
   "outputs": [
    {
     "name": "stdout",
     "output_type": "stream",
     "text": [
      "[{'_id': 'null',\n",
      "  'avg_width': 0.5041464146414641,\n",
      "  'max_width': 1.0,\n",
      "  'min_width': 0.0}]\n"
     ]
    }
   ],
   "source": [
    "# Pipeline to compute avergage, max and min width of cracks\n",
    "pipeline = [{ \n",
    "    \"$group\": { \n",
    "        \"_id\": \"null\", \n",
    "        \"min_width\": {\n",
    "            \"$min\": \"$width\" \n",
    "        },\n",
    "        \"avg_width\": {\n",
    "            \"$avg\": \"$width\" \n",
    "        },\n",
    "        \"max_width\": {\n",
    "            \"$max\": \"$width\" \n",
    "        }\n",
    "    }\n",
    "}]\n",
    "\n",
    "pprint.pprint(list((db.cracks.aggregate(pipeline))))"
   ]
  },
  {
   "cell_type": "markdown",
   "metadata": {},
   "source": [
    "# Import MongoDB data into a DataFrame"
   ]
  },
  {
   "cell_type": "code",
   "execution_count": 43,
   "metadata": {
    "collapsed": false
   },
   "outputs": [
    {
     "name": "stdout",
     "output_type": "stream",
     "text": [
      "                           _id      crack  width\n",
      "0     58cdac5960589b000a5931c6     crack1   0.70\n",
      "1     58cdac5960589b000a5931c7     crack2   0.97\n",
      "2     58cdac5960589b000a5931c8     crack3   0.43\n",
      "3     58cdac5960589b000a5931c9     crack4   0.68\n",
      "4     58cdac5960589b000a5931ca     crack5   0.27\n",
      "5     58cdac5960589b000a5931cb     crack6   0.99\n",
      "6     58cdac5960589b000a5931cc     crack7   0.91\n",
      "7     58cdac5960589b000a5931cd     crack8   0.94\n",
      "8     58cdac5960589b000a5931ce     crack9   0.66\n",
      "9     58cdac5960589b000a5931cf    crack10   0.23\n",
      "10    58cdac5960589b000a5931d0    crack11   0.12\n",
      "11    58cdac5960589b000a5931d1    crack12   0.12\n",
      "12    58cdac5960589b000a5931d2    crack13   0.46\n",
      "13    58cdac5960589b000a5931d3    crack14   0.33\n",
      "14    58cdac5960589b000a5931d4    crack15   0.73\n",
      "15    58cdac5960589b000a5931d5    crack16   0.72\n",
      "16    58cdac5960589b000a5931d6    crack17   0.18\n",
      "17    58cdac5960589b000a5931d7    crack18   0.51\n",
      "18    58cdac5960589b000a5931d8    crack19   0.87\n",
      "19    58cdac5960589b000a5931d9    crack20   0.38\n",
      "20    58cdac5960589b000a5931da    crack21   0.05\n",
      "21    58cdac5960589b000a5931db    crack22   0.82\n",
      "22    58cdac5960589b000a5931dc    crack23   0.49\n",
      "23    58cdac5960589b000a5931dd    crack24   0.38\n",
      "24    58cdac5960589b000a5931de    crack25   0.70\n",
      "25    58cdac5960589b000a5931df    crack26   0.13\n",
      "26    58cdac5960589b000a5931e0    crack27   0.27\n",
      "27    58cdac5960589b000a5931e1    crack28   0.20\n",
      "28    58cdac5960589b000a5931e2    crack29   0.17\n",
      "29    58cdac5960589b000a5931e3    crack30   0.54\n",
      "...                        ...        ...    ...\n",
      "9969  58cdac5d60589b000a5958b7  crack9970   0.21\n",
      "9970  58cdac5d60589b000a5958b8  crack9971   0.30\n",
      "9971  58cdac5d60589b000a5958b9  crack9972   0.13\n",
      "9972  58cdac5d60589b000a5958ba  crack9973   0.68\n",
      "9973  58cdac5d60589b000a5958bb  crack9974   0.01\n",
      "9974  58cdac5d60589b000a5958bc  crack9975   0.92\n",
      "9975  58cdac5d60589b000a5958bd  crack9976   0.32\n",
      "9976  58cdac5d60589b000a5958be  crack9977   0.33\n",
      "9977  58cdac5d60589b000a5958bf  crack9978   0.84\n",
      "9978  58cdac5d60589b000a5958c0  crack9979   0.55\n",
      "9979  58cdac5d60589b000a5958c1  crack9980   0.88\n",
      "9980  58cdac5d60589b000a5958c2  crack9981   0.98\n",
      "9981  58cdac5d60589b000a5958c3  crack9982   0.16\n",
      "9982  58cdac5d60589b000a5958c4  crack9983   0.72\n",
      "9983  58cdac5d60589b000a5958c5  crack9984   0.04\n",
      "9984  58cdac5d60589b000a5958c6  crack9985   0.88\n",
      "9985  58cdac5d60589b000a5958c7  crack9986   0.14\n",
      "9986  58cdac5d60589b000a5958c8  crack9987   0.79\n",
      "9987  58cdac5d60589b000a5958c9  crack9988   0.86\n",
      "9988  58cdac5d60589b000a5958ca  crack9989   0.76\n",
      "9989  58cdac5d60589b000a5958cb  crack9990   0.59\n",
      "9990  58cdac5d60589b000a5958cc  crack9991   0.11\n",
      "9991  58cdac5d60589b000a5958cd  crack9992   0.73\n",
      "9992  58cdac5d60589b000a5958ce  crack9993   0.19\n",
      "9993  58cdac5d60589b000a5958cf  crack9994   0.26\n",
      "9994  58cdac5d60589b000a5958d0  crack9995   0.71\n",
      "9995  58cdac5d60589b000a5958d1  crack9996   0.92\n",
      "9996  58cdac5d60589b000a5958d2  crack9997   0.87\n",
      "9997  58cdac5d60589b000a5958d3  crack9998   0.58\n",
      "9998  58cdac5d60589b000a5958d4  crack9999   0.62\n",
      "\n",
      "[9999 rows x 3 columns]\n"
     ]
    }
   ],
   "source": [
    "import pandas as pd\n",
    "\n",
    "cursor = db.cracks.find()\n",
    "df =  pd.DataFrame(list(cursor))\n",
    "len(df)\n",
    "print(df)"
   ]
  },
  {
   "cell_type": "markdown",
   "metadata": {
    "deletable": true,
    "editable": true
   },
   "source": [
    "## Drop the database"
   ]
  },
  {
   "cell_type": "code",
   "execution_count": 38,
   "metadata": {
    "collapsed": true,
    "deletable": true,
    "editable": true
   },
   "outputs": [],
   "source": [
    "db.cracks.drop()"
   ]
  },
  {
   "cell_type": "code",
   "execution_count": null,
   "metadata": {
    "collapsed": true
   },
   "outputs": [],
   "source": []
  }
 ],
 "metadata": {
  "kernelspec": {
   "display_name": "Python 3",
   "language": "python",
   "name": "python3"
  },
  "language_info": {
   "codemirror_mode": {
    "name": "ipython",
    "version": 3
   },
   "file_extension": ".py",
   "mimetype": "text/x-python",
   "name": "python",
   "nbconvert_exporter": "python",
   "pygments_lexer": "ipython3",
   "version": "3.5.2"
  }
 },
 "nbformat": 4,
 "nbformat_minor": 2
}
